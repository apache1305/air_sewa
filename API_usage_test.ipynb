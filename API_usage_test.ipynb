{
 "cells": [
  {
   "cell_type": "code",
   "execution_count": 2,
   "id": "01245151",
   "metadata": {},
   "outputs": [],
   "source": [
    "import json,requests\n",
    "from pprint import pprint\n",
    "host_url = \"http://localhost:8000/\""
   ]
  },
  {
   "cell_type": "code",
   "execution_count": 16,
   "id": "bb2d788e",
   "metadata": {},
   "outputs": [
    {
     "name": "stdout",
     "output_type": "stream",
     "text": [
      "201\n",
      "{'id': 2, 'departure_time': '1604848870871', 'arrival_time': '1604848880872', 'number': 'AK-48', 'departure_city': 'Delhi', 'arrival_city': 'Indore'}\n"
     ]
    }
   ],
   "source": [
    "url = host_url + \"create-flight/\"\n",
    "headers = {}\n",
    "data={\n",
    "    'number': 'AK-48',\n",
    "    'departure_city': 'Delhi',\n",
    "    'departure_time': 1604848870871, #1604848859871\n",
    "    'arrival_city': 'Indore',\n",
    "    'arrival_time': 1604848880872, #1604848904699\n",
    "}\n",
    "resp=requests.post(url, headers = headers, data=data)\n",
    "print(resp.status_code)\n",
    "print(resp.json())"
   ]
  },
  {
   "cell_type": "code",
   "execution_count": null,
   "id": "146ca1b9",
   "metadata": {},
   "outputs": [],
   "source": []
  },
  {
   "cell_type": "code",
   "execution_count": 50,
   "id": "4cadeabf",
   "metadata": {},
   "outputs": [
    {
     "name": "stdout",
     "output_type": "stream",
     "text": [
      "406\n",
      "{'message': 'Flight already exist'}\n"
     ]
    }
   ],
   "source": [
    "url = host_url + \"update-flight/1/\"\n",
    "headers = {}\n",
    "data={\n",
    "    'number': 'AK-48',\n",
    "    'departure_city': 'Varanasi',\n",
    "    'departure_time': 1604848859871, #1604848859871\n",
    "    'arrival_city': 'Indore',\n",
    "    'arrival_time': 1604848859872, #1604848904699\n",
    "}\n",
    "resp=requests.put(url, headers = headers, data=data, json=data)\n",
    "print(resp.status_code)\n",
    "print(resp.json())"
   ]
  },
  {
   "cell_type": "code",
   "execution_count": null,
   "id": "c8bca20d",
   "metadata": {},
   "outputs": [],
   "source": []
  },
  {
   "cell_type": "code",
   "execution_count": 8,
   "id": "f8d34eea",
   "metadata": {},
   "outputs": [
    {
     "name": "stdout",
     "output_type": "stream",
     "text": [
      "200\n",
      "[[{'arrival_city': 'Indore',\n",
      "   'arrival_time': '1657978200000',\n",
      "   'departure_city': 'Delhi',\n",
      "   'departure_time': '1657971900000',\n",
      "   'id': 1,\n",
      "   'number': 'AK-48'}],\n",
      " [{'arrival_city': 'Varanasi',\n",
      "   'arrival_time': '1657976400000',\n",
      "   'departure_city': 'Delhi',\n",
      "   'departure_time': '1657971000000',\n",
      "   'id': 3,\n",
      "   'number': 'AK-40'},\n",
      "  {'arrival_city': 'Indore',\n",
      "   'arrival_time': '1657989000000',\n",
      "   'departure_city': 'Varanasi',\n",
      "   'departure_time': '1657981800000',\n",
      "   'id': 2,\n",
      "   'number': 'AK-48'}]]\n"
     ]
    }
   ],
   "source": [
    "url = host_url + \"flight-plan/\"\n",
    "headers = {}\n",
    "data={\n",
    "    'departure_city': 'Delhi',\n",
    "    'arrival_city': 'Indore',\n",
    "    'departure_time': 1657970000000\n",
    "}\n",
    "resp=requests.get(url, headers = headers, params=data)\n",
    "print(resp.status_code)\n",
    "pprint(resp.json())"
   ]
  },
  {
   "cell_type": "code",
   "execution_count": null,
   "id": "b01924fa",
   "metadata": {},
   "outputs": [],
   "source": []
  },
  {
   "cell_type": "code",
   "execution_count": null,
   "id": "5075e35e",
   "metadata": {},
   "outputs": [],
   "source": []
  }
 ],
 "metadata": {
  "kernelspec": {
   "display_name": "Python 3.9.7 ('venv': venv)",
   "language": "python",
   "name": "python3"
  },
  "language_info": {
   "codemirror_mode": {
    "name": "ipython",
    "version": 3
   },
   "file_extension": ".py",
   "mimetype": "text/x-python",
   "name": "python",
   "nbconvert_exporter": "python",
   "pygments_lexer": "ipython3",
   "version": "3.9.7"
  },
  "vscode": {
   "interpreter": {
    "hash": "4c9af3850c02da8dd8c0f6effa926584e6267088d5e887d44a244e88a6ac097a"
   }
  }
 },
 "nbformat": 4,
 "nbformat_minor": 5
}
